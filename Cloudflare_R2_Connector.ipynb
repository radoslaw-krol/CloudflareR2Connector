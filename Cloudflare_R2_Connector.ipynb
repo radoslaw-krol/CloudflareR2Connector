{
 "cells": [
  {
   "cell_type": "code",
   "execution_count": 2,
   "metadata": {},
   "outputs": [],
   "source": [
    "import boto3\n",
    "import os\n",
    "import io\n",
    "from dotenv import load_dotenv\n",
    "\n",
    "load_dotenv()\n",
    "\n",
    "\n",
    "# Specify the bucket URL and bucket name\n",
    "bucket_url = os.getenv('url')\n",
    "bucket_name = os.getenv('bucket_name')\n",
    "\n",
    "#Specify AWS (Cloudflare) credentials \n",
    "aws_access_key_id = os.getenv('access_key_id')\n",
    "aws_secret_access_key = os.getenv('access_key_secret')\n",
    "\n",
    "key = #'object_key_here' # include the path to the file for upload\n",
    "\n",
    "# Create an S3 client\n",
    "s3 = boto3.client(\n",
    "    service_name=\"s3\",\n",
    "    endpoint_url=bucket_url,\n",
    "    aws_access_key_id=aws_access_key_id,\n",
    "    aws_secret_access_key=aws_secret_access_key,\n",
    "    region_name=\"eeur\"  # Set the appropriate region code\n",
    ")\n",
    "\n",
    "\n",
    "# Get the file content\n",
    "with open(key, \"rb\") as file:\n",
    "    file_content = file.read()\n",
    "\n"
   ]
  },
  {
   "cell_type": "code",
   "execution_count": null,
   "metadata": {},
   "outputs": [],
   "source": [
    "# Get object information\n",
    "object_info = s3.head_object(Bucket=bucket_name, Key=key)\n",
    "\n",
    "print(f\"Object information: {object_info}\")"
   ]
  },
  {
   "cell_type": "code",
   "execution_count": null,
   "metadata": {},
   "outputs": [],
   "source": [
    "# Upload the file\n",
    "s3.upload_fileobj(io.BytesIO(file_content), bucket_name, key)\n",
    "\n",
    "print(f\"File '{key}' uploaded successfully to '{bucket_url}'\")"
   ]
  },
  {
   "cell_type": "code",
   "execution_count": null,
   "metadata": {},
   "outputs": [],
   "source": [
    "# Download the file\n",
    "s3.download_file(bucket_name, key, key)\n",
    "\n",
    "print(f\"File '{key}' downloaded successfully from '{bucket_url}'\")"
   ]
  },
  {
   "cell_type": "code",
   "execution_count": null,
   "metadata": {},
   "outputs": [],
   "source": [
    "# Delete the file\n",
    "s3.delete_object(Bucket=bucket_name, Key=key)\n",
    "\n",
    "print(f\"File '{key}' deleted successfully from '{bucket_url}'\")"
   ]
  }
 ],
 "metadata": {
  "kernelspec": {
   "display_name": "earthanalytica",
   "language": "python",
   "name": "earthanalytica"
  },
  "language_info": {
   "codemirror_mode": {
    "name": "ipython",
    "version": 3
   },
   "file_extension": ".py",
   "mimetype": "text/x-python",
   "name": "python",
   "nbconvert_exporter": "python",
   "pygments_lexer": "ipython3",
   "version": "3.10.13"
  }
 },
 "nbformat": 4,
 "nbformat_minor": 2
}
