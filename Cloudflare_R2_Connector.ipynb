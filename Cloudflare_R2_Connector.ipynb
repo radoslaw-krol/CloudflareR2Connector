{
 "cells": [
  {
   "cell_type": "code",
   "execution_count": 1,
   "metadata": {},
   "outputs": [
    {
     "name": "stdout",
     "output_type": "stream",
     "text": [
      "File 'test2.txt' uploaded successfully to 'https://b289dc38991477e3e51371edda9aec31.eu.r2.cloudflarestorage.com'\n"
     ]
    }
   ],
   "source": [
    "import boto3\n",
    "import os\n",
    "import io\n",
    "from dotenv import load_dotenv\n",
    "\n",
    "load_dotenv()\n",
    "\n",
    "\n",
    "# Specify the bucket URL\n",
    "bucket_url = os.getenv('url')\n",
    "\n",
    "aws_access_key_id = os.getenv('access_key_id')\n",
    "aws_secret_access_key = os.getenv('access_key_secret')\n",
    "\n",
    "\n",
    "\n",
    "\n",
    "# Extract bucket name from the URL\n",
    "bucket_name = 'nasa-apod'\n",
    "key = 'test2.txt'\n",
    "\n",
    "# Create an S3 client\n",
    "s3 = boto3.client(\n",
    "    service_name=\"s3\",\n",
    "    endpoint_url=bucket_url,\n",
    "    aws_access_key_id=aws_access_key_id,\n",
    "    aws_secret_access_key=aws_secret_access_key,\n",
    "    region_name=\"eeur\"  # Set the appropriate region code\n",
    ")\n",
    "\n",
    "# Specify the file to upload\n",
    "file_path = \"test2.txt\"\n",
    "\n",
    "# Get the file content\n",
    "with open(file_path, \"rb\") as file:\n",
    "    file_content = file.read()\n",
    "\n",
    "\n",
    "\n",
    "# Upload the file\n",
    "s3.upload_fileobj(io.BytesIO(file_content), bucket_name, key)\n",
    "\n",
    "print(f\"File '{key}' uploaded successfully to '{bucket_url}'\")\n"
   ]
  }
 ],
 "metadata": {
  "kernelspec": {
   "display_name": "earthanalytica",
   "language": "python",
   "name": "earthanalytica"
  },
  "language_info": {
   "codemirror_mode": {
    "name": "ipython",
    "version": 3
   },
   "file_extension": ".py",
   "mimetype": "text/x-python",
   "name": "python",
   "nbconvert_exporter": "python",
   "pygments_lexer": "ipython3",
   "version": "3.10.13"
  }
 },
 "nbformat": 4,
 "nbformat_minor": 2
}
